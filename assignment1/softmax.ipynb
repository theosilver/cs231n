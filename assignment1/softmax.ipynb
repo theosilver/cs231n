{
 "cells": [
  {
   "cell_type": "markdown",
   "metadata": {},
   "source": [
    "# Softmax exercise\n",
    "\n",
    "*Complete and hand in this completed worksheet (including its outputs and any supporting code outside of the worksheet) with your assignment submission. For more details see the [assignments page](http://vision.stanford.edu/teaching/cs231n/assignments.html) on the course website.*\n",
    "\n",
    "This exercise is analogous to the SVM exercise. You will:\n",
    "\n",
    "- implement a fully-vectorized **loss function** for the Softmax classifier\n",
    "- implement the fully-vectorized expression for its **analytic gradient**\n",
    "- **check your implementation** with numerical gradient\n",
    "- use a validation set to **tune the learning rate and regularization** strength\n",
    "- **optimize** the loss function with **SGD**\n",
    "- **visualize** the final learned weights\n"
   ]
  },
  {
   "cell_type": "code",
   "execution_count": 1,
   "metadata": {
    "collapsed": false
   },
   "outputs": [],
   "source": [
    "import random\n",
    "import numpy as np\n",
    "from cs231n.data_utils import load_CIFAR10\n",
    "import matplotlib.pyplot as plt\n",
    "\n",
    "from __future__ import print_function\n",
    "\n",
    "%matplotlib inline\n",
    "plt.rcParams['figure.figsize'] = (10.0, 8.0) # set default size of plots\n",
    "plt.rcParams['image.interpolation'] = 'nearest'\n",
    "plt.rcParams['image.cmap'] = 'gray'\n",
    "\n",
    "# for auto-reloading extenrnal modules\n",
    "# see http://stackoverflow.com/questions/1907993/autoreload-of-modules-in-ipython\n",
    "%load_ext autoreload\n",
    "%autoreload 2"
   ]
  },
  {
   "cell_type": "code",
   "execution_count": 2,
   "metadata": {
    "collapsed": false
   },
   "outputs": [
    {
     "name": "stdout",
     "output_type": "stream",
     "text": [
      "Train data shape:  (49000, 3073)\n",
      "Train labels shape:  (49000,)\n",
      "Validation data shape:  (1000, 3073)\n",
      "Validation labels shape:  (1000,)\n",
      "Test data shape:  (1000, 3073)\n",
      "Test labels shape:  (1000,)\n",
      "dev data shape:  (500, 3073)\n",
      "dev labels shape:  (500,)\n"
     ]
    }
   ],
   "source": [
    "def get_CIFAR10_data(num_training=49000, num_validation=1000, num_test=1000, num_dev=500):\n",
    "    \"\"\"\n",
    "    Load the CIFAR-10 dataset from disk and perform preprocessing to prepare\n",
    "    it for the linear classifier. These are the same steps as we used for the\n",
    "    SVM, but condensed to a single function.  \n",
    "    \"\"\"\n",
    "    # Load the raw CIFAR-10 data\n",
    "    cifar10_dir = 'cs231n/datasets/cifar-10-batches-py'\n",
    "    X_train, y_train, X_test, y_test = load_CIFAR10(cifar10_dir)\n",
    "    \n",
    "    # subsample the data\n",
    "    mask = list(range(num_training, num_training + num_validation))\n",
    "    X_val = X_train[mask]\n",
    "    y_val = y_train[mask]\n",
    "    mask = list(range(num_training))\n",
    "    X_train = X_train[mask]\n",
    "    y_train = y_train[mask]\n",
    "    mask = list(range(num_test))\n",
    "    X_test = X_test[mask]\n",
    "    y_test = y_test[mask]\n",
    "    mask = np.random.choice(num_training, num_dev, replace=False)\n",
    "    X_dev = X_train[mask]\n",
    "    y_dev = y_train[mask]\n",
    "    \n",
    "    # Preprocessing: reshape the image data into rows\n",
    "    X_train = np.reshape(X_train, (X_train.shape[0], -1))\n",
    "    X_val = np.reshape(X_val, (X_val.shape[0], -1))\n",
    "    X_test = np.reshape(X_test, (X_test.shape[0], -1))\n",
    "    X_dev = np.reshape(X_dev, (X_dev.shape[0], -1))\n",
    "    \n",
    "    # Normalize the data: subtract the mean image\n",
    "    mean_image = np.mean(X_train, axis = 0)\n",
    "    X_train -= mean_image\n",
    "    X_val -= mean_image\n",
    "    X_test -= mean_image\n",
    "    X_dev -= mean_image\n",
    "    \n",
    "    # add bias dimension and transform into columns\n",
    "    X_train = np.hstack([X_train, np.ones((X_train.shape[0], 1))])\n",
    "    X_val = np.hstack([X_val, np.ones((X_val.shape[0], 1))])\n",
    "    X_test = np.hstack([X_test, np.ones((X_test.shape[0], 1))])\n",
    "    X_dev = np.hstack([X_dev, np.ones((X_dev.shape[0], 1))])\n",
    "    \n",
    "    return X_train, y_train, X_val, y_val, X_test, y_test, X_dev, y_dev\n",
    "\n",
    "\n",
    "# Invoke the above function to get our data.\n",
    "X_train, y_train, X_val, y_val, X_test, y_test, X_dev, y_dev = get_CIFAR10_data()\n",
    "print('Train data shape: ', X_train.shape)\n",
    "print('Train labels shape: ', y_train.shape)\n",
    "print('Validation data shape: ', X_val.shape)\n",
    "print('Validation labels shape: ', y_val.shape)\n",
    "print('Test data shape: ', X_test.shape)\n",
    "print('Test labels shape: ', y_test.shape)\n",
    "print('dev data shape: ', X_dev.shape)\n",
    "print('dev labels shape: ', y_dev.shape)"
   ]
  },
  {
   "cell_type": "markdown",
   "metadata": {},
   "source": [
    "## Softmax Classifier\n",
    "\n",
    "Your code for this section will all be written inside **cs231n/classifiers/softmax.py**. \n"
   ]
  },
  {
   "cell_type": "code",
   "execution_count": 32,
   "metadata": {
    "collapsed": false
   },
   "outputs": [
    {
     "name": "stdout",
     "output_type": "stream",
     "text": [
      "loss: 2.385603\n",
      "sanity check: 2.302585\n"
     ]
    }
   ],
   "source": [
    "# First implement the naive softmax loss function with nested loops.\n",
    "# Open the file cs231n/classifiers/softmax.py and implement the\n",
    "# softmax_loss_naive function.\n",
    "\n",
    "from cs231n.classifiers.softmax import softmax_loss_naive\n",
    "import time\n",
    "\n",
    "# Generate a random softmax weight matrix and use it to compute the loss.\n",
    "W = np.random.randn(3073, 10) * 0.0001\n",
    "loss, grad = softmax_loss_naive(W, X_dev, y_dev, 0.0)\n",
    "\n",
    "# As a rough sanity check, our loss should be something close to -log(0.1).\n",
    "print('loss: %f' % loss)\n",
    "print('sanity check: %f' % (-np.log(0.1)))"
   ]
  },
  {
   "cell_type": "markdown",
   "metadata": {},
   "source": [
    "## Inline Question 1:\n",
    "Why do we expect our loss to be close to -log(0.1)? Explain briefly.**\n",
    "\n",
    "**Your answer:** *Fill this in*\n"
   ]
  },
  {
   "cell_type": "code",
   "execution_count": 41,
   "metadata": {
    "collapsed": false
   },
   "outputs": [
    {
     "name": "stdout",
     "output_type": "stream",
     "text": [
      "numerical: -0.228386 analytic: -0.228386, relative error: 5.190844e-09\n",
      "numerical: -0.737225 analytic: -0.737225, relative error: 3.791963e-08\n",
      "numerical: 0.343844 analytic: 0.343844, relative error: 1.012022e-07\n",
      "numerical: 1.581802 analytic: 1.581802, relative error: 1.620496e-08\n",
      "numerical: -1.562300 analytic: -1.562300, relative error: 3.462045e-09\n",
      "numerical: -0.798999 analytic: -0.798999, relative error: 1.719096e-08\n",
      "numerical: -5.149163 analytic: -5.149163, relative error: 2.858365e-09\n",
      "numerical: -4.317505 analytic: -4.317505, relative error: 8.977392e-09\n",
      "numerical: 1.206660 analytic: 1.206660, relative error: 3.990850e-08\n",
      "numerical: -0.264391 analytic: -0.264391, relative error: 5.176117e-08\n",
      "numerical: 1.236099 analytic: 1.236099, relative error: 9.475115e-09\n",
      "numerical: 1.280933 analytic: 1.280933, relative error: 1.483616e-08\n",
      "numerical: 2.398036 analytic: 2.398036, relative error: 1.019453e-08\n",
      "numerical: 0.622861 analytic: 0.622861, relative error: 4.623718e-08\n",
      "numerical: 1.477806 analytic: 1.477806, relative error: 2.473988e-08\n",
      "numerical: 0.638763 analytic: 0.638763, relative error: 1.049049e-08\n",
      "numerical: 1.813476 analytic: 1.813476, relative error: 9.041343e-09\n",
      "numerical: 0.067383 analytic: 0.067383, relative error: 2.751596e-09\n",
      "numerical: -3.318816 analytic: -3.318815, relative error: 1.899086e-08\n",
      "numerical: -0.426325 analytic: -0.426325, relative error: 5.649437e-09\n"
     ]
    }
   ],
   "source": [
    "# Complete the implementation of softmax_loss_naive and implement a (naive)\n",
    "# version of the gradient that uses nested loops.\n",
    "loss, grad = softmax_loss_naive(W, X_dev, y_dev, 0.0)\n",
    "\n",
    "# As we did for the SVM, use numeric gradient checking as a debugging tool.\n",
    "# The numeric gradient should be close to the analytic gradient.\n",
    "from cs231n.gradient_check import grad_check_sparse\n",
    "f = lambda w: softmax_loss_naive(w, X_dev, y_dev, 0.0)[0]\n",
    "grad_numerical = grad_check_sparse(f, W, grad, 10)\n",
    "\n",
    "# similar to SVM case, do another gradient check with regularization\n",
    "loss, grad = softmax_loss_naive(W, X_dev, y_dev, 5e1)\n",
    "f = lambda w: softmax_loss_naive(w, X_dev, y_dev, 5e1)[0]\n",
    "grad_numerical = grad_check_sparse(f, W, grad, 10)"
   ]
  },
  {
   "cell_type": "code",
   "execution_count": 43,
   "metadata": {
    "collapsed": false
   },
   "outputs": [
    {
     "name": "stdout",
     "output_type": "stream",
     "text": [
      "naive loss: 2.385603e+00 computed in 0.111607s\n",
      "vectorized loss: 2.385603e+00 computed in 0.006640s\n",
      "Loss difference: 0.000000\n",
      "Gradient difference: 0.000000\n"
     ]
    }
   ],
   "source": [
    "# Now that we have a naive implementation of the softmax loss function and its gradient,\n",
    "# implement a vectorized version in softmax_loss_vectorized.\n",
    "# The two versions should compute the same results, but the vectorized version should be\n",
    "# much faster.\n",
    "tic = time.time()\n",
    "loss_naive, grad_naive = softmax_loss_naive(W, X_dev, y_dev, 0.000005)\n",
    "toc = time.time()\n",
    "print('naive loss: %e computed in %fs' % (loss_naive, toc - tic))\n",
    "\n",
    "from cs231n.classifiers.softmax import softmax_loss_vectorized\n",
    "tic = time.time()\n",
    "loss_vectorized, grad_vectorized = softmax_loss_vectorized(W, X_dev, y_dev, 0.000005)\n",
    "toc = time.time()\n",
    "print('vectorized loss: %e computed in %fs' % (loss_vectorized, toc - tic))\n",
    "\n",
    "# As we did for the SVM, we use the Frobenius norm to compare the two versions\n",
    "# of the gradient.\n",
    "grad_difference = np.linalg.norm(grad_naive - grad_vectorized, ord='fro')\n",
    "print('Loss difference: %f' % np.abs(loss_naive - loss_vectorized))\n",
    "print('Gradient difference: %f' % grad_difference)"
   ]
  },
  {
   "cell_type": "code",
   "execution_count": 44,
   "metadata": {
    "collapsed": false
   },
   "outputs": [
    {
     "name": "stdout",
     "output_type": "stream",
     "text": [
      "lr 1.136376e-07 reg 4.951652e+04 train accuracy: 0.306939 val accuracy: 0.319000\n",
      "lr 1.417708e-07 reg 4.122132e+04 train accuracy: 0.316429 val accuracy: 0.323000\n",
      "lr 1.787308e-07 reg 2.607889e+04 train accuracy: 0.327061 val accuracy: 0.342000\n",
      "lr 1.843657e-07 reg 4.076582e+04 train accuracy: 0.310000 val accuracy: 0.322000\n",
      "lr 1.843983e-07 reg 4.532917e+04 train accuracy: 0.302163 val accuracy: 0.318000\n",
      "lr 1.885881e-07 reg 2.819518e+04 train accuracy: 0.325286 val accuracy: 0.348000\n",
      "lr 1.998038e-07 reg 3.192458e+04 train accuracy: 0.326918 val accuracy: 0.347000\n",
      "lr 2.187944e-07 reg 4.356407e+04 train accuracy: 0.307449 val accuracy: 0.320000\n",
      "lr 2.295343e-07 reg 4.955975e+04 train accuracy: 0.302633 val accuracy: 0.316000\n",
      "lr 2.690101e-07 reg 2.536203e+04 train accuracy: 0.325898 val accuracy: 0.335000\n",
      "lr 2.919325e-07 reg 2.606210e+04 train accuracy: 0.325653 val accuracy: 0.333000\n",
      "lr 2.993826e-07 reg 4.578430e+04 train accuracy: 0.308469 val accuracy: 0.312000\n",
      "lr 3.002657e-07 reg 3.102858e+04 train accuracy: 0.316184 val accuracy: 0.332000\n",
      "lr 3.062396e-07 reg 4.300457e+04 train accuracy: 0.314082 val accuracy: 0.320000\n",
      "lr 3.361432e-07 reg 3.788518e+04 train accuracy: 0.316327 val accuracy: 0.336000\n",
      "lr 3.520495e-07 reg 2.876316e+04 train accuracy: 0.321327 val accuracy: 0.337000\n",
      "lr 3.601361e-07 reg 3.142798e+04 train accuracy: 0.324918 val accuracy: 0.339000\n",
      "lr 3.984996e-07 reg 4.522823e+04 train accuracy: 0.297306 val accuracy: 0.313000\n",
      "lr 4.441987e-07 reg 3.264274e+04 train accuracy: 0.322755 val accuracy: 0.346000\n",
      "lr 4.514661e-07 reg 3.921137e+04 train accuracy: 0.312327 val accuracy: 0.328000\n",
      "lr 4.586706e-07 reg 3.188803e+04 train accuracy: 0.311714 val accuracy: 0.313000\n",
      "lr 4.715327e-07 reg 4.656769e+04 train accuracy: 0.318143 val accuracy: 0.320000\n",
      "lr 4.803310e-07 reg 4.475684e+04 train accuracy: 0.317490 val accuracy: 0.335000\n",
      "lr 4.924530e-07 reg 4.464135e+04 train accuracy: 0.301735 val accuracy: 0.315000\n",
      "lr 4.984739e-07 reg 3.324508e+04 train accuracy: 0.303163 val accuracy: 0.314000\n",
      "best validation accuracy achieved during cross-validation: 0.348000\n"
     ]
    }
   ],
   "source": [
    "# Use the validation set to tune hyperparameters (regularization strength and\n",
    "# learning rate). You should experiment with different ranges for the learning\n",
    "# rates and regularization strengths; if you are careful you should be able to\n",
    "# get a classification accuracy of over 0.35 on the validation set.\n",
    "from cs231n.classifiers import Softmax\n",
    "results = {}\n",
    "best_val = -1\n",
    "best_softmax = None\n",
    "learning_rates = [1e-7, 5e-7]\n",
    "lr_range = 2 + np.log10(5)\n",
    "lr_bias = 7\n",
    "regularization_strengths = [2.5e4, 5e4]\n",
    "\n",
    "################################################################################\n",
    "# TODO:                                                                        #\n",
    "# Use the validation set to set the learning rate and regularization strength. #\n",
    "# This should be identical to the validation that you did for the SVM; save    #\n",
    "# the best trained softmax classifer in best_softmax.                          #\n",
    "################################################################################\n",
    "for it in range(25):\n",
    "#     lr_temp = 10 ** (np.random.rand() * lr_range - lr_bias)\n",
    "    lr_temp = np.random.rand() * (5e-7 - 1e-7) + 1e-7\n",
    "#     reg_temp = 10 ** (np.random.rand() * reg_range - reg_bias)\n",
    "    reg_temp = np.random.rand() * (5e4 - 2.5e4) + 2.5e4\n",
    "    soft_max = Softmax()\n",
    "    loss_hist = soft_max.train(X_train, y_train, learning_rate=lr_temp, reg=reg_temp,\n",
    "                      num_iters=1500, verbose=False)\n",
    "    y_train_pred = soft_max.predict(X_train)\n",
    "    y_val_pred = soft_max.predict(X_val)\n",
    "    ta_temp = np.mean(y_train == y_train_pred)\n",
    "    va_temp = np.mean(y_val == y_val_pred)\n",
    "#     print('ta: %f va: %f' % (ta_temp, va_temp))\n",
    "    results[(lr_temp, reg_temp)] = ta_temp, va_temp\n",
    "    if va_temp > best_val:\n",
    "        best_val = va_temp\n",
    "        best_softmax = soft_max\n",
    "################################################################################\n",
    "#                              END OF YOUR CODE                                #\n",
    "################################################################################\n",
    "    \n",
    "# Print out results.\n",
    "for lr, reg in sorted(results):\n",
    "    train_accuracy, val_accuracy = results[(lr, reg)]\n",
    "    print('lr %e reg %e train accuracy: %f val accuracy: %f' % (\n",
    "                lr, reg, train_accuracy, val_accuracy))\n",
    "    \n",
    "print('best validation accuracy achieved during cross-validation: %f' % best_val)"
   ]
  },
  {
   "cell_type": "code",
   "execution_count": 45,
   "metadata": {
    "collapsed": false
   },
   "outputs": [
    {
     "name": "stdout",
     "output_type": "stream",
     "text": [
      "softmax on raw pixels final test set accuracy: 0.340000\n"
     ]
    }
   ],
   "source": [
    "# evaluate on test set\n",
    "# Evaluate the best softmax on test set\n",
    "y_test_pred = best_softmax.predict(X_test)\n",
    "test_accuracy = np.mean(y_test == y_test_pred)\n",
    "print('softmax on raw pixels final test set accuracy: %f' % (test_accuracy, ))"
   ]
  },
  {
   "cell_type": "code",
   "execution_count": 46,
   "metadata": {
    "collapsed": false
   },
   "outputs": [
    {
     "data": {
      "image/png": "[encoded data removed]",
      "text/plain": [
       "<matplotlib.figure.Figure at 0x107b7c3c8>"
      ]
     },
     "metadata": {},
     "output_type": "display_data"
    }
   ],
   "source": [
    "# Visualize the learned weights for each class\n",
    "w = best_softmax.W[:-1,:] # strip out the bias\n",
    "w = w.reshape(32, 32, 3, 10)\n",
    "\n",
    "w_min, w_max = np.min(w), np.max(w)\n",
    "\n",
    "classes = ['plane', 'car', 'bird', 'cat', 'deer', 'dog', 'frog', 'horse', 'ship', 'truck']\n",
    "for i in range(10):\n",
    "    plt.subplot(2, 5, i + 1)\n",
    "    \n",
    "    # Rescale the weights to be between 0 and 255\n",
    "    wimg = 255.0 * (w[:, :, :, i].squeeze() - w_min) / (w_max - w_min)\n",
    "    plt.imshow(wimg.astype('uint8'))\n",
    "    plt.axis('off')\n",
    "    plt.title(classes[i])"
   ]
  },
  {
   "cell_type": "code",
   "execution_count": null,
   "metadata": {
    "collapsed": true
   },
   "outputs": [],
   "source": []
  }
 ],
 "metadata": {
  "kernelspec": {
   "display_name": "Python 3",
   "language": "python",
   "name": "python3"
  },
  "language_info": {
   "codemirror_mode": {
    "name": "ipython",
    "version": 3
   },
   "file_extension": ".py",
   "mimetype": "text/x-python",
   "name": "python",
   "nbconvert_exporter": "python",
   "pygments_lexer": "ipython3",
   "version": "3.6.2"
  }
 },
 "nbformat": 4,
 "nbformat_minor": 0
}
